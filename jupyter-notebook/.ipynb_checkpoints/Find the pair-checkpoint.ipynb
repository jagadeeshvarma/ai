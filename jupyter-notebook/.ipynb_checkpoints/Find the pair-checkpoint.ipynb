{
 "cells": [
  {
   "cell_type": "markdown",
   "metadata": {},
   "source": [
    "#### Find if any tow numbers in the the given `list of numbers` can produce a given `sum`"
   ]
  },
  {
   "cell_type": "code",
   "execution_count": 1,
   "metadata": {},
   "outputs": [],
   "source": [
    "def has_sum(numbers,sum):\n",
    "    c = []\n",
    "    for i in numbers:\n",
    "        if i in c:\n",
    "            return True\n",
    "        else:\n",
    "            c.append(sum-i)\n",
    "    return False"
   ]
  },
  {
   "cell_type": "code",
   "execution_count": 4,
   "metadata": {},
   "outputs": [
    {
     "name": "stdout",
     "output_type": "stream",
     "text": [
      "Enter numbers seperated by comma: 1,3,5,9\n",
      "Enter the sum: 8\n"
     ]
    }
   ],
   "source": [
    "numbers = [int(x) for x in input('Enter numbers seperated by comma: ').split(',')]\n",
    "sum = int(input('Enter the sum: '))"
   ]
  },
  {
   "cell_type": "code",
   "execution_count": 5,
   "metadata": {},
   "outputs": [
    {
     "name": "stdout",
     "output_type": "stream",
     "text": [
      "True\n"
     ]
    }
   ],
   "source": [
    "print(has_sum(numbers,sum))"
   ]
  }
 ],
 "metadata": {
  "kernelspec": {
   "display_name": "Python 3",
   "language": "python",
   "name": "python3"
  },
  "language_info": {
   "codemirror_mode": {
    "name": "ipython",
    "version": 3
   },
   "file_extension": ".py",
   "mimetype": "text/x-python",
   "name": "python",
   "nbconvert_exporter": "python",
   "pygments_lexer": "ipython3",
   "version": "3.6.5"
  }
 },
 "nbformat": 4,
 "nbformat_minor": 2
}
