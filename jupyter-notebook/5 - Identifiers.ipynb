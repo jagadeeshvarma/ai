{
 "cells": [
  {
   "cell_type": "markdown",
   "metadata": {},
   "source": [
    "# Identifiers"
   ]
  },
  {
   "cell_type": "markdown",
   "metadata": {},
   "source": [
    "An identifier is a name used to identify the variables, funtions, classes, modules and other objects in a python programm."
   ]
  },
  {
   "cell_type": "markdown",
   "metadata": {},
   "source": [
    "### Rules for identifiers:\n",
    "\n"
   ]
  },
  {
   "cell_type": "markdown",
   "metadata": {},
   "source": [
    "Below characters can be used alone or in combination for creating an identifier\n",
    "        1. a-z (lower case alphabets)\n",
    "        2. A-Z (upper case alphabets)\n",
    "        3. 0-9 (digits)\n",
    "        4. _ (underscore)\n"
   ]
  },
  {
   "cell_type": "code",
   "execution_count": 1,
   "metadata": {},
   "outputs": [
    {
     "name": "stdout",
     "output_type": "stream",
     "text": [
      "Jagadeesh\n",
      "Varma\n",
      "Jagadeesh Varma\n",
      "Jagadeesh Varma\n"
     ]
    }
   ],
   "source": [
    "name = 'Jagadeesh'\n",
    "print(name)\n",
    "\n",
    "name1 = 'Varma'\n",
    "print(name1)\n",
    "\n",
    "_name = 'Jagadeesh Varma'\n",
    "print(_name)\n",
    "\n",
    "fullName_1 = 'Jagadeesh Varma'\n",
    "print(fullName_1)"
   ]
  },
  {
   "cell_type": "markdown",
   "metadata": {},
   "source": [
    "Identifiers are case sensitive, Thus **name** and **Name** are two different identifiers."
   ]
  },
  {
   "cell_type": "code",
   "execution_count": 2,
   "metadata": {},
   "outputs": [
    {
     "name": "stdout",
     "output_type": "stream",
     "text": [
      "Jagadeesh\n",
      "Varma\n"
     ]
    }
   ],
   "source": [
    "name = 'Jagadeesh'\n",
    "print(name)\n",
    "Name = 'Varma'\n",
    "print(Name)"
   ]
  },
  {
   "cell_type": "markdown",
   "metadata": {},
   "source": [
    "Identifers can not start with digit but can contain digits."
   ]
  },
  {
   "cell_type": "code",
   "execution_count": 3,
   "metadata": {},
   "outputs": [
    {
     "ename": "SyntaxError",
     "evalue": "invalid syntax (<ipython-input-3-9bb59bbce8cc>, line 1)",
     "output_type": "error",
     "traceback": [
      "\u001b[0;36m  File \u001b[0;32m\"<ipython-input-3-9bb59bbce8cc>\"\u001b[0;36m, line \u001b[0;32m1\u001b[0m\n\u001b[0;31m    1name = 'Jagadeesh'\u001b[0m\n\u001b[0m        ^\u001b[0m\n\u001b[0;31mSyntaxError\u001b[0m\u001b[0;31m:\u001b[0m invalid syntax\n"
     ]
    }
   ],
   "source": [
    "1name = 'Jagadeesh'"
   ]
  },
  {
   "cell_type": "markdown",
   "metadata": {},
   "source": [
    "Identifiers  must not contain any white-space, or special characters like !, @, #, %, ^, &, *. Only allowed special character is _ (underscore)."
   ]
  },
  {
   "cell_type": "code",
   "execution_count": 4,
   "metadata": {},
   "outputs": [
    {
     "ename": "SyntaxError",
     "evalue": "invalid syntax (<ipython-input-4-928bc9db7058>, line 1)",
     "output_type": "error",
     "traceback": [
      "\u001b[0;36m  File \u001b[0;32m\"<ipython-input-4-928bc9db7058>\"\u001b[0;36m, line \u001b[0;32m1\u001b[0m\n\u001b[0;31m    full name = 'Jagadeesh Varma'\u001b[0m\n\u001b[0m            ^\u001b[0m\n\u001b[0;31mSyntaxError\u001b[0m\u001b[0;31m:\u001b[0m invalid syntax\n"
     ]
    }
   ],
   "source": [
    "full name = 'Jagadeesh Varma'"
   ]
  },
  {
   "cell_type": "markdown",
   "metadata": {},
   "source": [
    "A keyword must not be used as identifier. Doing so gives `SyntaxError`"
   ]
  },
  {
   "cell_type": "code",
   "execution_count": 5,
   "metadata": {},
   "outputs": [
    {
     "ename": "SyntaxError",
     "evalue": "invalid syntax (<ipython-input-5-c8afa53838c5>, line 1)",
     "output_type": "error",
     "traceback": [
      "\u001b[0;36m  File \u001b[0;32m\"<ipython-input-5-c8afa53838c5>\"\u001b[0;36m, line \u001b[0;32m1\u001b[0m\n\u001b[0;31m    pass = True\u001b[0m\n\u001b[0m         ^\u001b[0m\n\u001b[0;31mSyntaxError\u001b[0m\u001b[0;31m:\u001b[0m invalid syntax\n"
     ]
    }
   ],
   "source": [
    "pass = True"
   ]
  },
  {
   "cell_type": "markdown",
   "metadata": {},
   "source": [
    "Starting an identifer with _ (single underscore) indicates that the identifier is private and starting an identifer with __ (double undersores) indicates that the identifier is strongly private."
   ]
  },
  {
   "cell_type": "code",
   "execution_count": 6,
   "metadata": {},
   "outputs": [],
   "source": [
    "_name = 'Jagadeesh' # private\n",
    "__id = 4 # strongly private\n",
    "\n",
    "def _display(): # private\n",
    "    pass\n",
    "def __display(): # strongly private\n",
    "    pass"
   ]
  },
  {
   "cell_type": "markdown",
   "metadata": {},
   "source": [
    "If the identifer starts with `__` and ends with `__` (double underscores) then it is language defined identifier.\n",
    "For example `__init__, __add__, __len__, __repr__`.\n",
    "These functions are also called as dunder functions or magic methods. These are commonly used for operator overloading. (Dunder --> Double Underscore)"
   ]
  },
  {
   "cell_type": "markdown",
   "metadata": {},
   "source": [
    "\n",
    "NOTE: *We will learn more about dunder functions seperately*"
   ]
  }
 ],
 "metadata": {
  "kernelspec": {
   "display_name": "Python 3",
   "language": "python",
   "name": "python3"
  },
  "language_info": {
   "codemirror_mode": {
    "name": "ipython",
    "version": 3
   },
   "file_extension": ".py",
   "mimetype": "text/x-python",
   "name": "python",
   "nbconvert_exporter": "python",
   "pygments_lexer": "ipython3",
   "version": "3.6.5"
  }
 },
 "nbformat": 4,
 "nbformat_minor": 2
}
